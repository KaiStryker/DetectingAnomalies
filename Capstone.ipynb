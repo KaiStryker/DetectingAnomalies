{
 "cells": [
  {
   "cell_type": "code",
   "execution_count": 1,
   "id": "bd2831d5",
   "metadata": {},
   "outputs": [],
   "source": [
    "import numpy as np\n",
    "import pandas as pd\n",
    "import matplotlib.pyplot as plt\n",
    "\n",
    "from sklearn.linear_model import LogisticRegression\n",
    "from sklearn.pipeline import Pipeline \n",
    "from sklearn.model_selection import train_test_split, GridSearchCV\n",
    "from sklearn.ensemble import IsolationForest"
   ]
  },
  {
   "cell_type": "code",
   "execution_count": 2,
   "id": "6f4f44ab",
   "metadata": {},
   "outputs": [],
   "source": [
    "data = pd.read_csv('/Users/kareemwilliams/Downloads/metaverse_transactions_dataset.csv')"
   ]
  },
  {
   "cell_type": "code",
   "execution_count": 3,
   "id": "fb012978",
   "metadata": {},
   "outputs": [
    {
     "data": {
      "text/html": [
       "<div>\n",
       "<style scoped>\n",
       "    .dataframe tbody tr th:only-of-type {\n",
       "        vertical-align: middle;\n",
       "    }\n",
       "\n",
       "    .dataframe tbody tr th {\n",
       "        vertical-align: top;\n",
       "    }\n",
       "\n",
       "    .dataframe thead th {\n",
       "        text-align: right;\n",
       "    }\n",
       "</style>\n",
       "<table border=\"1\" class=\"dataframe\">\n",
       "  <thead>\n",
       "    <tr style=\"text-align: right;\">\n",
       "      <th></th>\n",
       "      <th>timestamp</th>\n",
       "      <th>hour_of_day</th>\n",
       "      <th>sending_address</th>\n",
       "      <th>receiving_address</th>\n",
       "      <th>amount</th>\n",
       "      <th>transaction_type</th>\n",
       "      <th>location_region</th>\n",
       "      <th>ip_prefix</th>\n",
       "      <th>login_frequency</th>\n",
       "      <th>session_duration</th>\n",
       "      <th>purchase_pattern</th>\n",
       "      <th>age_group</th>\n",
       "      <th>risk_score</th>\n",
       "      <th>anomaly</th>\n",
       "    </tr>\n",
       "  </thead>\n",
       "  <tbody>\n",
       "    <tr>\n",
       "      <th>0</th>\n",
       "      <td>2022-04-11 12:47:27</td>\n",
       "      <td>12</td>\n",
       "      <td>0x9d32d0bf2c00f41ce7ca01b66e174cc4dcb0c1da</td>\n",
       "      <td>0x39f82e1c09bc6d7baccc1e79e5621ff812f50572</td>\n",
       "      <td>796.949206</td>\n",
       "      <td>transfer</td>\n",
       "      <td>Europe</td>\n",
       "      <td>192.000</td>\n",
       "      <td>3</td>\n",
       "      <td>48</td>\n",
       "      <td>focused</td>\n",
       "      <td>established</td>\n",
       "      <td>18.7500</td>\n",
       "      <td>low_risk</td>\n",
       "    </tr>\n",
       "    <tr>\n",
       "      <th>1</th>\n",
       "      <td>2022-06-14 19:12:46</td>\n",
       "      <td>19</td>\n",
       "      <td>0xd6e251c23cbf52dbd472f079147873e655d8096f</td>\n",
       "      <td>0x51e8fbe24f124e0e30a614e14401b9bbfed5384c</td>\n",
       "      <td>0.010000</td>\n",
       "      <td>purchase</td>\n",
       "      <td>South America</td>\n",
       "      <td>172.000</td>\n",
       "      <td>5</td>\n",
       "      <td>61</td>\n",
       "      <td>focused</td>\n",
       "      <td>established</td>\n",
       "      <td>25.0000</td>\n",
       "      <td>low_risk</td>\n",
       "    </tr>\n",
       "    <tr>\n",
       "      <th>2</th>\n",
       "      <td>2022-01-18 16:26:59</td>\n",
       "      <td>16</td>\n",
       "      <td>0x2e0925b922fed01f6a85d213ae2718f54b8ca305</td>\n",
       "      <td>0x52c7911879f783d590af45bda0c0ef2b8536706f</td>\n",
       "      <td>778.197390</td>\n",
       "      <td>purchase</td>\n",
       "      <td>Asia</td>\n",
       "      <td>192.168</td>\n",
       "      <td>3</td>\n",
       "      <td>74</td>\n",
       "      <td>focused</td>\n",
       "      <td>established</td>\n",
       "      <td>31.2500</td>\n",
       "      <td>low_risk</td>\n",
       "    </tr>\n",
       "    <tr>\n",
       "      <th>3</th>\n",
       "      <td>2022-06-15 09:20:04</td>\n",
       "      <td>9</td>\n",
       "      <td>0x93efefc25fcaf31d7695f28018d7a11ece55457f</td>\n",
       "      <td>0x8ac3b7bd531b3a833032f07d4e47c7af6ea7bace</td>\n",
       "      <td>300.838358</td>\n",
       "      <td>transfer</td>\n",
       "      <td>South America</td>\n",
       "      <td>172.000</td>\n",
       "      <td>8</td>\n",
       "      <td>111</td>\n",
       "      <td>high_value</td>\n",
       "      <td>veteran</td>\n",
       "      <td>36.7500</td>\n",
       "      <td>low_risk</td>\n",
       "    </tr>\n",
       "    <tr>\n",
       "      <th>4</th>\n",
       "      <td>2022-02-18 14:35:30</td>\n",
       "      <td>14</td>\n",
       "      <td>0xad3b8de45d63f5cce28aef9a82cf30c397c6ceb9</td>\n",
       "      <td>0x6fdc047c2391615b3facd79b4588c7e9106e49f2</td>\n",
       "      <td>775.569344</td>\n",
       "      <td>sale</td>\n",
       "      <td>Africa</td>\n",
       "      <td>172.160</td>\n",
       "      <td>6</td>\n",
       "      <td>100</td>\n",
       "      <td>high_value</td>\n",
       "      <td>veteran</td>\n",
       "      <td>62.5000</td>\n",
       "      <td>moderate_risk</td>\n",
       "    </tr>\n",
       "    <tr>\n",
       "      <th>...</th>\n",
       "      <td>...</td>\n",
       "      <td>...</td>\n",
       "      <td>...</td>\n",
       "      <td>...</td>\n",
       "      <td>...</td>\n",
       "      <td>...</td>\n",
       "      <td>...</td>\n",
       "      <td>...</td>\n",
       "      <td>...</td>\n",
       "      <td>...</td>\n",
       "      <td>...</td>\n",
       "      <td>...</td>\n",
       "      <td>...</td>\n",
       "      <td>...</td>\n",
       "    </tr>\n",
       "    <tr>\n",
       "      <th>78595</th>\n",
       "      <td>2022-02-13 12:52:27</td>\n",
       "      <td>12</td>\n",
       "      <td>0xa99b9a7f5c5dd37429771efd3b93c6fbe1ab2936</td>\n",
       "      <td>0x5a78c88c5fc1e9b512f6c64e266b46a9db0a7238</td>\n",
       "      <td>660.280373</td>\n",
       "      <td>transfer</td>\n",
       "      <td>Africa</td>\n",
       "      <td>172.000</td>\n",
       "      <td>1</td>\n",
       "      <td>27</td>\n",
       "      <td>random</td>\n",
       "      <td>new</td>\n",
       "      <td>26.2500</td>\n",
       "      <td>low_risk</td>\n",
       "    </tr>\n",
       "    <tr>\n",
       "      <th>78596</th>\n",
       "      <td>2022-02-16 16:15:29</td>\n",
       "      <td>16</td>\n",
       "      <td>0xcca095ad2d508c200bda1141f783d77c3e6cbb08</td>\n",
       "      <td>0xb71a4df291ea8e9996a74e77ab63f5abcbfe90f5</td>\n",
       "      <td>310.273397</td>\n",
       "      <td>purchase</td>\n",
       "      <td>Africa</td>\n",
       "      <td>172.000</td>\n",
       "      <td>5</td>\n",
       "      <td>60</td>\n",
       "      <td>focused</td>\n",
       "      <td>established</td>\n",
       "      <td>26.2500</td>\n",
       "      <td>low_risk</td>\n",
       "    </tr>\n",
       "    <tr>\n",
       "      <th>78597</th>\n",
       "      <td>2022-08-04 16:06:42</td>\n",
       "      <td>16</td>\n",
       "      <td>0xe0b340171486b08f0c1f4ac607ed776478cefd2b</td>\n",
       "      <td>0x577754308538f4be10a41afb4f8900cd24d7098f</td>\n",
       "      <td>624.674332</td>\n",
       "      <td>purchase</td>\n",
       "      <td>Africa</td>\n",
       "      <td>192.000</td>\n",
       "      <td>1</td>\n",
       "      <td>34</td>\n",
       "      <td>random</td>\n",
       "      <td>new</td>\n",
       "      <td>36.7500</td>\n",
       "      <td>low_risk</td>\n",
       "    </tr>\n",
       "    <tr>\n",
       "      <th>78598</th>\n",
       "      <td>2022-02-26 04:06:08</td>\n",
       "      <td>4</td>\n",
       "      <td>0xb0b2f6fc707fbb7f9d27a9f4fe0cb0d6b39a0155</td>\n",
       "      <td>0xd6ba299fdd52f09f01d9648036ca446498c01ac2</td>\n",
       "      <td>401.391592</td>\n",
       "      <td>purchase</td>\n",
       "      <td>Asia</td>\n",
       "      <td>192.168</td>\n",
       "      <td>4</td>\n",
       "      <td>56</td>\n",
       "      <td>focused</td>\n",
       "      <td>established</td>\n",
       "      <td>35.4375</td>\n",
       "      <td>low_risk</td>\n",
       "    </tr>\n",
       "    <tr>\n",
       "      <th>78599</th>\n",
       "      <td>2022-06-25 14:27:37</td>\n",
       "      <td>14</td>\n",
       "      <td>0x6ea0e02fb6ee893dc3b70b98df1a48165d28eb09</td>\n",
       "      <td>0xc28cbdb253f12174f7aa80ff6c6660f2e09397d7</td>\n",
       "      <td>523.947956</td>\n",
       "      <td>transfer</td>\n",
       "      <td>North America</td>\n",
       "      <td>172.000</td>\n",
       "      <td>4</td>\n",
       "      <td>56</td>\n",
       "      <td>focused</td>\n",
       "      <td>established</td>\n",
       "      <td>15.7500</td>\n",
       "      <td>low_risk</td>\n",
       "    </tr>\n",
       "  </tbody>\n",
       "</table>\n",
       "<p>78600 rows × 14 columns</p>\n",
       "</div>"
      ],
      "text/plain": [
       "                 timestamp  hour_of_day  \\\n",
       "0      2022-04-11 12:47:27           12   \n",
       "1      2022-06-14 19:12:46           19   \n",
       "2      2022-01-18 16:26:59           16   \n",
       "3      2022-06-15 09:20:04            9   \n",
       "4      2022-02-18 14:35:30           14   \n",
       "...                    ...          ...   \n",
       "78595  2022-02-13 12:52:27           12   \n",
       "78596  2022-02-16 16:15:29           16   \n",
       "78597  2022-08-04 16:06:42           16   \n",
       "78598  2022-02-26 04:06:08            4   \n",
       "78599  2022-06-25 14:27:37           14   \n",
       "\n",
       "                                  sending_address  \\\n",
       "0      0x9d32d0bf2c00f41ce7ca01b66e174cc4dcb0c1da   \n",
       "1      0xd6e251c23cbf52dbd472f079147873e655d8096f   \n",
       "2      0x2e0925b922fed01f6a85d213ae2718f54b8ca305   \n",
       "3      0x93efefc25fcaf31d7695f28018d7a11ece55457f   \n",
       "4      0xad3b8de45d63f5cce28aef9a82cf30c397c6ceb9   \n",
       "...                                           ...   \n",
       "78595  0xa99b9a7f5c5dd37429771efd3b93c6fbe1ab2936   \n",
       "78596  0xcca095ad2d508c200bda1141f783d77c3e6cbb08   \n",
       "78597  0xe0b340171486b08f0c1f4ac607ed776478cefd2b   \n",
       "78598  0xb0b2f6fc707fbb7f9d27a9f4fe0cb0d6b39a0155   \n",
       "78599  0x6ea0e02fb6ee893dc3b70b98df1a48165d28eb09   \n",
       "\n",
       "                                receiving_address      amount  \\\n",
       "0      0x39f82e1c09bc6d7baccc1e79e5621ff812f50572  796.949206   \n",
       "1      0x51e8fbe24f124e0e30a614e14401b9bbfed5384c    0.010000   \n",
       "2      0x52c7911879f783d590af45bda0c0ef2b8536706f  778.197390   \n",
       "3      0x8ac3b7bd531b3a833032f07d4e47c7af6ea7bace  300.838358   \n",
       "4      0x6fdc047c2391615b3facd79b4588c7e9106e49f2  775.569344   \n",
       "...                                           ...         ...   \n",
       "78595  0x5a78c88c5fc1e9b512f6c64e266b46a9db0a7238  660.280373   \n",
       "78596  0xb71a4df291ea8e9996a74e77ab63f5abcbfe90f5  310.273397   \n",
       "78597  0x577754308538f4be10a41afb4f8900cd24d7098f  624.674332   \n",
       "78598  0xd6ba299fdd52f09f01d9648036ca446498c01ac2  401.391592   \n",
       "78599  0xc28cbdb253f12174f7aa80ff6c6660f2e09397d7  523.947956   \n",
       "\n",
       "      transaction_type location_region  ip_prefix  login_frequency  \\\n",
       "0             transfer          Europe    192.000                3   \n",
       "1             purchase   South America    172.000                5   \n",
       "2             purchase            Asia    192.168                3   \n",
       "3             transfer   South America    172.000                8   \n",
       "4                 sale          Africa    172.160                6   \n",
       "...                ...             ...        ...              ...   \n",
       "78595         transfer          Africa    172.000                1   \n",
       "78596         purchase          Africa    172.000                5   \n",
       "78597         purchase          Africa    192.000                1   \n",
       "78598         purchase            Asia    192.168                4   \n",
       "78599         transfer   North America    172.000                4   \n",
       "\n",
       "       session_duration purchase_pattern    age_group  risk_score  \\\n",
       "0                    48          focused  established     18.7500   \n",
       "1                    61          focused  established     25.0000   \n",
       "2                    74          focused  established     31.2500   \n",
       "3                   111       high_value      veteran     36.7500   \n",
       "4                   100       high_value      veteran     62.5000   \n",
       "...                 ...              ...          ...         ...   \n",
       "78595                27           random          new     26.2500   \n",
       "78596                60          focused  established     26.2500   \n",
       "78597                34           random          new     36.7500   \n",
       "78598                56          focused  established     35.4375   \n",
       "78599                56          focused  established     15.7500   \n",
       "\n",
       "             anomaly  \n",
       "0           low_risk  \n",
       "1           low_risk  \n",
       "2           low_risk  \n",
       "3           low_risk  \n",
       "4      moderate_risk  \n",
       "...              ...  \n",
       "78595       low_risk  \n",
       "78596       low_risk  \n",
       "78597       low_risk  \n",
       "78598       low_risk  \n",
       "78599       low_risk  \n",
       "\n",
       "[78600 rows x 14 columns]"
      ]
     },
     "execution_count": 3,
     "metadata": {},
     "output_type": "execute_result"
    }
   ],
   "source": [
    "data"
   ]
  },
  {
   "cell_type": "code",
   "execution_count": 4,
   "id": "3a79fdc7",
   "metadata": {},
   "outputs": [
    {
     "data": {
      "text/plain": [
       "(array([6.6880e+03, 1.1071e+04, 1.7332e+04, 1.8886e+04, 1.4084e+04,\n",
       "        7.2650e+03, 2.5420e+03, 6.0900e+02, 1.1100e+02, 1.2000e+01]),\n",
       " array([1.00000000e-02, 1.55724091e+02, 3.11438181e+02, 4.67152272e+02,\n",
       "        6.22866362e+02, 7.78580453e+02, 9.34294543e+02, 1.09000863e+03,\n",
       "        1.24572272e+03, 1.40143681e+03, 1.55715091e+03]),\n",
       " <BarContainer object of 10 artists>)"
      ]
     },
     "execution_count": 4,
     "metadata": {},
     "output_type": "execute_result"
    },
    {
     "data": {
      "image/png": "[encoded data removed]",
      "text/plain": [
       "<Figure size 640x480 with 1 Axes>"
      ]
     },
     "metadata": {},
     "output_type": "display_data"
    }
   ],
   "source": [
    "plt.hist(data[['amount']])"
   ]
  },
  {
   "cell_type": "code",
   "execution_count": 5,
   "id": "e5139715",
   "metadata": {},
   "outputs": [
    {
     "data": {
      "text/plain": [
       "(array([26033.,     0.,     0.,     0.,     0., 26422.,     0.,     0.,\n",
       "            0., 26145.]),\n",
       " array([0. , 0.2, 0.4, 0.6, 0.8, 1. , 1.2, 1.4, 1.6, 1.8, 2. ]),\n",
       " <BarContainer object of 10 artists>)"
      ]
     },
     "execution_count": 5,
     "metadata": {},
     "output_type": "execute_result"
    },
    {
     "data": {
      "image/png": "[encoded data removed]",
      "text/plain": [
       "<Figure size 640x480 with 1 Axes>"
      ]
     },
     "metadata": {},
     "output_type": "display_data"
    }
   ],
   "source": [
    "plt.hist(data[['purchase_pattern']])"
   ]
  },
  {
   "cell_type": "code",
   "execution_count": 6,
   "id": "0b41ce9d",
   "metadata": {},
   "outputs": [
    {
     "data": {
      "text/plain": [
       "(array([22125.,     0., 24940.,     0.,     0., 25040.,     0.,  2546.,\n",
       "            0.,  3949.]),\n",
       " array([0. , 0.4, 0.8, 1.2, 1.6, 2. , 2.4, 2.8, 3.2, 3.6, 4. ]),\n",
       " <BarContainer object of 10 artists>)"
      ]
     },
     "execution_count": 6,
     "metadata": {},
     "output_type": "execute_result"
    },
    {
     "data": {
      "image/png": "[encoded data removed]",
      "text/plain": [
       "<Figure size 640x480 with 1 Axes>"
      ]
     },
     "metadata": {},
     "output_type": "display_data"
    }
   ],
   "source": [
    "plt.hist(data['transaction_type'])"
   ]
  },
  {
   "cell_type": "code",
   "execution_count": 7,
   "id": "09ba271e",
   "metadata": {},
   "outputs": [
    {
     "data": {
      "text/plain": [
       "<matplotlib.collections.PathCollection at 0x178cfb250>"
      ]
     },
     "execution_count": 7,
     "metadata": {},
     "output_type": "execute_result"
    },
    {
     "data": {
      "image/png": "[encoded data removed]",
      "text/plain": [
       "<Figure size 640x480 with 1 Axes>"
      ]
     },
     "metadata": {},
     "output_type": "display_data"
    }
   ],
   "source": [
    "plt.scatter(data[['risk_score']], data[['amount']]) "
   ]
  },
  {
   "cell_type": "code",
   "execution_count": 8,
   "id": "69c6e04d",
   "metadata": {},
   "outputs": [
    {
     "data": {
      "text/html": [
       "<div>\n",
       "<style scoped>\n",
       "    .dataframe tbody tr th:only-of-type {\n",
       "        vertical-align: middle;\n",
       "    }\n",
       "\n",
       "    .dataframe tbody tr th {\n",
       "        vertical-align: top;\n",
       "    }\n",
       "\n",
       "    .dataframe thead th {\n",
       "        text-align: right;\n",
       "    }\n",
       "</style>\n",
       "<table border=\"1\" class=\"dataframe\">\n",
       "  <thead>\n",
       "    <tr style=\"text-align: right;\">\n",
       "      <th></th>\n",
       "      <th>hour_of_day</th>\n",
       "      <th>amount</th>\n",
       "      <th>transaction_type</th>\n",
       "      <th>location_region</th>\n",
       "      <th>login_frequency</th>\n",
       "      <th>session_duration</th>\n",
       "      <th>purchase_pattern</th>\n",
       "      <th>age_group</th>\n",
       "      <th>anomaly</th>\n",
       "    </tr>\n",
       "  </thead>\n",
       "  <tbody>\n",
       "    <tr>\n",
       "      <th>0</th>\n",
       "      <td>12</td>\n",
       "      <td>796.949206</td>\n",
       "      <td>transfer</td>\n",
       "      <td>Europe</td>\n",
       "      <td>3</td>\n",
       "      <td>48</td>\n",
       "      <td>focused</td>\n",
       "      <td>established</td>\n",
       "      <td>low_risk</td>\n",
       "    </tr>\n",
       "    <tr>\n",
       "      <th>1</th>\n",
       "      <td>19</td>\n",
       "      <td>0.010000</td>\n",
       "      <td>purchase</td>\n",
       "      <td>South America</td>\n",
       "      <td>5</td>\n",
       "      <td>61</td>\n",
       "      <td>focused</td>\n",
       "      <td>established</td>\n",
       "      <td>low_risk</td>\n",
       "    </tr>\n",
       "    <tr>\n",
       "      <th>2</th>\n",
       "      <td>16</td>\n",
       "      <td>778.197390</td>\n",
       "      <td>purchase</td>\n",
       "      <td>Asia</td>\n",
       "      <td>3</td>\n",
       "      <td>74</td>\n",
       "      <td>focused</td>\n",
       "      <td>established</td>\n",
       "      <td>low_risk</td>\n",
       "    </tr>\n",
       "    <tr>\n",
       "      <th>3</th>\n",
       "      <td>9</td>\n",
       "      <td>300.838358</td>\n",
       "      <td>transfer</td>\n",
       "      <td>South America</td>\n",
       "      <td>8</td>\n",
       "      <td>111</td>\n",
       "      <td>high_value</td>\n",
       "      <td>veteran</td>\n",
       "      <td>low_risk</td>\n",
       "    </tr>\n",
       "    <tr>\n",
       "      <th>4</th>\n",
       "      <td>14</td>\n",
       "      <td>775.569344</td>\n",
       "      <td>sale</td>\n",
       "      <td>Africa</td>\n",
       "      <td>6</td>\n",
       "      <td>100</td>\n",
       "      <td>high_value</td>\n",
       "      <td>veteran</td>\n",
       "      <td>moderate_risk</td>\n",
       "    </tr>\n",
       "    <tr>\n",
       "      <th>...</th>\n",
       "      <td>...</td>\n",
       "      <td>...</td>\n",
       "      <td>...</td>\n",
       "      <td>...</td>\n",
       "      <td>...</td>\n",
       "      <td>...</td>\n",
       "      <td>...</td>\n",
       "      <td>...</td>\n",
       "      <td>...</td>\n",
       "    </tr>\n",
       "    <tr>\n",
       "      <th>78595</th>\n",
       "      <td>12</td>\n",
       "      <td>660.280373</td>\n",
       "      <td>transfer</td>\n",
       "      <td>Africa</td>\n",
       "      <td>1</td>\n",
       "      <td>27</td>\n",
       "      <td>random</td>\n",
       "      <td>new</td>\n",
       "      <td>low_risk</td>\n",
       "    </tr>\n",
       "    <tr>\n",
       "      <th>78596</th>\n",
       "      <td>16</td>\n",
       "      <td>310.273397</td>\n",
       "      <td>purchase</td>\n",
       "      <td>Africa</td>\n",
       "      <td>5</td>\n",
       "      <td>60</td>\n",
       "      <td>focused</td>\n",
       "      <td>established</td>\n",
       "      <td>low_risk</td>\n",
       "    </tr>\n",
       "    <tr>\n",
       "      <th>78597</th>\n",
       "      <td>16</td>\n",
       "      <td>624.674332</td>\n",
       "      <td>purchase</td>\n",
       "      <td>Africa</td>\n",
       "      <td>1</td>\n",
       "      <td>34</td>\n",
       "      <td>random</td>\n",
       "      <td>new</td>\n",
       "      <td>low_risk</td>\n",
       "    </tr>\n",
       "    <tr>\n",
       "      <th>78598</th>\n",
       "      <td>4</td>\n",
       "      <td>401.391592</td>\n",
       "      <td>purchase</td>\n",
       "      <td>Asia</td>\n",
       "      <td>4</td>\n",
       "      <td>56</td>\n",
       "      <td>focused</td>\n",
       "      <td>established</td>\n",
       "      <td>low_risk</td>\n",
       "    </tr>\n",
       "    <tr>\n",
       "      <th>78599</th>\n",
       "      <td>14</td>\n",
       "      <td>523.947956</td>\n",
       "      <td>transfer</td>\n",
       "      <td>North America</td>\n",
       "      <td>4</td>\n",
       "      <td>56</td>\n",
       "      <td>focused</td>\n",
       "      <td>established</td>\n",
       "      <td>low_risk</td>\n",
       "    </tr>\n",
       "  </tbody>\n",
       "</table>\n",
       "<p>78600 rows × 9 columns</p>\n",
       "</div>"
      ],
      "text/plain": [
       "       hour_of_day      amount transaction_type location_region  \\\n",
       "0               12  796.949206         transfer          Europe   \n",
       "1               19    0.010000         purchase   South America   \n",
       "2               16  778.197390         purchase            Asia   \n",
       "3                9  300.838358         transfer   South America   \n",
       "4               14  775.569344             sale          Africa   \n",
       "...            ...         ...              ...             ...   \n",
       "78595           12  660.280373         transfer          Africa   \n",
       "78596           16  310.273397         purchase          Africa   \n",
       "78597           16  624.674332         purchase          Africa   \n",
       "78598            4  401.391592         purchase            Asia   \n",
       "78599           14  523.947956         transfer   North America   \n",
       "\n",
       "       login_frequency  session_duration purchase_pattern    age_group  \\\n",
       "0                    3                48          focused  established   \n",
       "1                    5                61          focused  established   \n",
       "2                    3                74          focused  established   \n",
       "3                    8               111       high_value      veteran   \n",
       "4                    6               100       high_value      veteran   \n",
       "...                ...               ...              ...          ...   \n",
       "78595                1                27           random          new   \n",
       "78596                5                60          focused  established   \n",
       "78597                1                34           random          new   \n",
       "78598                4                56          focused  established   \n",
       "78599                4                56          focused  established   \n",
       "\n",
       "             anomaly  \n",
       "0           low_risk  \n",
       "1           low_risk  \n",
       "2           low_risk  \n",
       "3           low_risk  \n",
       "4      moderate_risk  \n",
       "...              ...  \n",
       "78595       low_risk  \n",
       "78596       low_risk  \n",
       "78597       low_risk  \n",
       "78598       low_risk  \n",
       "78599       low_risk  \n",
       "\n",
       "[78600 rows x 9 columns]"
      ]
     },
     "execution_count": 8,
     "metadata": {},
     "output_type": "execute_result"
    }
   ],
   "source": [
    "data = data.drop(columns=['sending_address', 'receiving_address', 'timestamp', 'ip_prefix', 'risk_score'])\n",
    "data"
   ]
  },
  {
   "cell_type": "code",
   "execution_count": 9,
   "id": "ecafc534",
   "metadata": {},
   "outputs": [
    {
     "data": {
      "text/html": [
       "<div>\n",
       "<style scoped>\n",
       "    .dataframe tbody tr th:only-of-type {\n",
       "        vertical-align: middle;\n",
       "    }\n",
       "\n",
       "    .dataframe tbody tr th {\n",
       "        vertical-align: top;\n",
       "    }\n",
       "\n",
       "    .dataframe thead th {\n",
       "        text-align: right;\n",
       "    }\n",
       "</style>\n",
       "<table border=\"1\" class=\"dataframe\">\n",
       "  <thead>\n",
       "    <tr style=\"text-align: right;\">\n",
       "      <th></th>\n",
       "      <th>hour_of_day</th>\n",
       "      <th>amount</th>\n",
       "      <th>transaction_type</th>\n",
       "      <th>location_region</th>\n",
       "      <th>login_frequency</th>\n",
       "      <th>session_duration</th>\n",
       "      <th>purchase_pattern</th>\n",
       "      <th>age_group</th>\n",
       "      <th>anomaly</th>\n",
       "    </tr>\n",
       "  </thead>\n",
       "  <tbody>\n",
       "    <tr>\n",
       "      <th>0</th>\n",
       "      <td>12</td>\n",
       "      <td>796.949206</td>\n",
       "      <td>transfer</td>\n",
       "      <td>Europe</td>\n",
       "      <td>3</td>\n",
       "      <td>48</td>\n",
       "      <td>focused</td>\n",
       "      <td>established</td>\n",
       "      <td>0</td>\n",
       "    </tr>\n",
       "    <tr>\n",
       "      <th>1</th>\n",
       "      <td>19</td>\n",
       "      <td>0.010000</td>\n",
       "      <td>purchase</td>\n",
       "      <td>South America</td>\n",
       "      <td>5</td>\n",
       "      <td>61</td>\n",
       "      <td>focused</td>\n",
       "      <td>established</td>\n",
       "      <td>0</td>\n",
       "    </tr>\n",
       "    <tr>\n",
       "      <th>2</th>\n",
       "      <td>16</td>\n",
       "      <td>778.197390</td>\n",
       "      <td>purchase</td>\n",
       "      <td>Asia</td>\n",
       "      <td>3</td>\n",
       "      <td>74</td>\n",
       "      <td>focused</td>\n",
       "      <td>established</td>\n",
       "      <td>0</td>\n",
       "    </tr>\n",
       "    <tr>\n",
       "      <th>3</th>\n",
       "      <td>9</td>\n",
       "      <td>300.838358</td>\n",
       "      <td>transfer</td>\n",
       "      <td>South America</td>\n",
       "      <td>8</td>\n",
       "      <td>111</td>\n",
       "      <td>high_value</td>\n",
       "      <td>veteran</td>\n",
       "      <td>0</td>\n",
       "    </tr>\n",
       "    <tr>\n",
       "      <th>4</th>\n",
       "      <td>14</td>\n",
       "      <td>775.569344</td>\n",
       "      <td>sale</td>\n",
       "      <td>Africa</td>\n",
       "      <td>6</td>\n",
       "      <td>100</td>\n",
       "      <td>high_value</td>\n",
       "      <td>veteran</td>\n",
       "      <td>0</td>\n",
       "    </tr>\n",
       "    <tr>\n",
       "      <th>...</th>\n",
       "      <td>...</td>\n",
       "      <td>...</td>\n",
       "      <td>...</td>\n",
       "      <td>...</td>\n",
       "      <td>...</td>\n",
       "      <td>...</td>\n",
       "      <td>...</td>\n",
       "      <td>...</td>\n",
       "      <td>...</td>\n",
       "    </tr>\n",
       "    <tr>\n",
       "      <th>78595</th>\n",
       "      <td>12</td>\n",
       "      <td>660.280373</td>\n",
       "      <td>transfer</td>\n",
       "      <td>Africa</td>\n",
       "      <td>1</td>\n",
       "      <td>27</td>\n",
       "      <td>random</td>\n",
       "      <td>new</td>\n",
       "      <td>0</td>\n",
       "    </tr>\n",
       "    <tr>\n",
       "      <th>78596</th>\n",
       "      <td>16</td>\n",
       "      <td>310.273397</td>\n",
       "      <td>purchase</td>\n",
       "      <td>Africa</td>\n",
       "      <td>5</td>\n",
       "      <td>60</td>\n",
       "      <td>focused</td>\n",
       "      <td>established</td>\n",
       "      <td>0</td>\n",
       "    </tr>\n",
       "    <tr>\n",
       "      <th>78597</th>\n",
       "      <td>16</td>\n",
       "      <td>624.674332</td>\n",
       "      <td>purchase</td>\n",
       "      <td>Africa</td>\n",
       "      <td>1</td>\n",
       "      <td>34</td>\n",
       "      <td>random</td>\n",
       "      <td>new</td>\n",
       "      <td>0</td>\n",
       "    </tr>\n",
       "    <tr>\n",
       "      <th>78598</th>\n",
       "      <td>4</td>\n",
       "      <td>401.391592</td>\n",
       "      <td>purchase</td>\n",
       "      <td>Asia</td>\n",
       "      <td>4</td>\n",
       "      <td>56</td>\n",
       "      <td>focused</td>\n",
       "      <td>established</td>\n",
       "      <td>0</td>\n",
       "    </tr>\n",
       "    <tr>\n",
       "      <th>78599</th>\n",
       "      <td>14</td>\n",
       "      <td>523.947956</td>\n",
       "      <td>transfer</td>\n",
       "      <td>North America</td>\n",
       "      <td>4</td>\n",
       "      <td>56</td>\n",
       "      <td>focused</td>\n",
       "      <td>established</td>\n",
       "      <td>0</td>\n",
       "    </tr>\n",
       "  </tbody>\n",
       "</table>\n",
       "<p>78600 rows × 9 columns</p>\n",
       "</div>"
      ],
      "text/plain": [
       "       hour_of_day      amount transaction_type location_region  \\\n",
       "0               12  796.949206         transfer          Europe   \n",
       "1               19    0.010000         purchase   South America   \n",
       "2               16  778.197390         purchase            Asia   \n",
       "3                9  300.838358         transfer   South America   \n",
       "4               14  775.569344             sale          Africa   \n",
       "...            ...         ...              ...             ...   \n",
       "78595           12  660.280373         transfer          Africa   \n",
       "78596           16  310.273397         purchase          Africa   \n",
       "78597           16  624.674332         purchase          Africa   \n",
       "78598            4  401.391592         purchase            Asia   \n",
       "78599           14  523.947956         transfer   North America   \n",
       "\n",
       "       login_frequency  session_duration purchase_pattern    age_group  \\\n",
       "0                    3                48          focused  established   \n",
       "1                    5                61          focused  established   \n",
       "2                    3                74          focused  established   \n",
       "3                    8               111       high_value      veteran   \n",
       "4                    6               100       high_value      veteran   \n",
       "...                ...               ...              ...          ...   \n",
       "78595                1                27           random          new   \n",
       "78596                5                60          focused  established   \n",
       "78597                1                34           random          new   \n",
       "78598                4                56          focused  established   \n",
       "78599                4                56          focused  established   \n",
       "\n",
       "       anomaly  \n",
       "0            0  \n",
       "1            0  \n",
       "2            0  \n",
       "3            0  \n",
       "4            0  \n",
       "...        ...  \n",
       "78595        0  \n",
       "78596        0  \n",
       "78597        0  \n",
       "78598        0  \n",
       "78599        0  \n",
       "\n",
       "[78600 rows x 9 columns]"
      ]
     },
     "execution_count": 9,
     "metadata": {},
     "output_type": "execute_result"
    }
   ],
   "source": [
    "def transform(x):\n",
    "    if x == 'high_risk':\n",
    "        return 1\n",
    "    else:\n",
    "        return 0\n",
    "\n",
    "\n",
    "data['anomaly'] = data['anomaly'].apply(transform)\n",
    "data"
   ]
  },
  {
   "cell_type": "code",
   "execution_count": 10,
   "id": "edb3efc4",
   "metadata": {},
   "outputs": [
    {
     "data": {
      "text/plain": [
       "anomaly\n",
       "0    72105\n",
       "1     6495\n",
       "Name: count, dtype: int64"
      ]
     },
     "execution_count": 10,
     "metadata": {},
     "output_type": "execute_result"
    }
   ],
   "source": [
    "data['anomaly'].value_counts()"
   ]
  },
  {
   "cell_type": "code",
   "execution_count": 11,
   "id": "8b8e1b03",
   "metadata": {},
   "outputs": [
    {
     "data": {
      "text/plain": [
       "location_region\n",
       "North America      15840\n",
       "Europe             15807\n",
       "Asia               15731\n",
       "South America      15669\n",
       "Africa             15553\n",
       "Name: count, dtype: int64"
      ]
     },
     "execution_count": 11,
     "metadata": {},
     "output_type": "execute_result"
    }
   ],
   "source": [
    "data[['location_region']].value_counts()"
   ]
  },
  {
   "cell_type": "code",
   "execution_count": 12,
   "id": "3e2e77a3",
   "metadata": {},
   "outputs": [
    {
     "data": {
      "text/plain": [
       "age_group  \n",
       "veteran        26422\n",
       "new            26145\n",
       "established    26033\n",
       "Name: count, dtype: int64"
      ]
     },
     "execution_count": 12,
     "metadata": {},
     "output_type": "execute_result"
    }
   ],
   "source": [
    "data[['age_group']].value_counts()"
   ]
  },
  {
   "cell_type": "code",
   "execution_count": 13,
   "id": "2f4871c2",
   "metadata": {
    "scrolled": true
   },
   "outputs": [
    {
     "data": {
      "text/plain": [
       "purchase_pattern\n",
       "high_value          26422\n",
       "random              26145\n",
       "focused             26033\n",
       "Name: count, dtype: int64"
      ]
     },
     "execution_count": 13,
     "metadata": {},
     "output_type": "execute_result"
    }
   ],
   "source": [
    "data[['purchase_pattern']].value_counts()"
   ]
  },
  {
   "cell_type": "code",
   "execution_count": 14,
   "id": "36512348",
   "metadata": {},
   "outputs": [
    {
     "data": {
      "text/plain": [
       "transaction_type\n",
       "sale                25040\n",
       "purchase            24940\n",
       "transfer            22125\n",
       "scam                 3949\n",
       "phishing             2546\n",
       "Name: count, dtype: int64"
      ]
     },
     "execution_count": 14,
     "metadata": {},
     "output_type": "execute_result"
    }
   ],
   "source": [
    "data[['transaction_type']].value_counts()"
   ]
  },
  {
   "cell_type": "code",
   "execution_count": 15,
   "id": "3e8f2e36",
   "metadata": {},
   "outputs": [],
   "source": [
    "from sklearn.preprocessing import OneHotEncoder, StandardScaler\n",
    "from sklearn.compose import make_column_transformer\n",
    "\n",
    "transformer = make_column_transformer(\n",
    "  (StandardScaler(), ['hour_of_day','amount','login_frequency','session_duration']),\n",
    "  (OneHotEncoder(), ['transaction_type', 'location_region', 'purchase_pattern', 'age_group']))\n",
    "\n",
    "X = data.drop('anomaly', axis = 1)\n",
    "y = data['anomaly']\n",
    "\n",
    "X_train, X_test, y_train, y_test = train_test_split(X,y, test_size=.33, random_state=42)\n",
    "pipe = Pipeline([('transformer', transformer),('iso', IsolationForest())]).fit(X_train)\n",
    "\n"
   ]
  },
  {
   "cell_type": "code",
   "execution_count": 16,
   "id": "598c2bdb",
   "metadata": {},
   "outputs": [
    {
     "name": "stdout",
     "output_type": "stream",
     "text": [
      "[[ 2698 21153]\n",
      " [    0  2087]]\n",
      "              precision    recall  f1-score   support\n",
      "\n",
      "           0       1.00      0.11      0.20     23851\n",
      "           1       0.09      1.00      0.16      2087\n",
      "\n",
      "    accuracy                           0.18     25938\n",
      "   macro avg       0.54      0.56      0.18     25938\n",
      "weighted avg       0.93      0.18      0.20     25938\n",
      "\n"
     ]
    }
   ],
   "source": [
    "from sklearn.metrics import classification_report, confusion_matrix\n",
    "\n",
    "y_pred = pipe.predict(X_test)\n",
    "\n",
    "# Convert predictions from {1, -1} to {0, 1} (1: normal, -1: anomaly)\n",
    "y_pred = np.where(y_pred == 1, 0, 1)\n",
    "\n",
    "# Evaluation\n",
    "print(confusion_matrix(y_test, y_pred))\n",
    "print(classification_report(y_test, y_pred))"
   ]
  },
  {
   "cell_type": "code",
   "execution_count": 17,
   "id": "5ffec22b",
   "metadata": {},
   "outputs": [
    {
     "data": {
      "text/plain": [
       "array([[ 2698, 21153],\n",
       "       [    0,  2087]])"
      ]
     },
     "execution_count": 17,
     "metadata": {},
     "output_type": "execute_result"
    }
   ],
   "source": [
    "confusion_matrix(y_test, y_pred)"
   ]
  },
  {
   "cell_type": "code",
   "execution_count": 19,
   "id": "114dfdc1",
   "metadata": {},
   "outputs": [
    {
     "name": "stderr",
     "output_type": "stream",
     "text": [
      "/Users/kareemwilliams/anaconda3/lib/python3.11/site-packages/joblib/externals/loky/process_executor.py:700: UserWarning: A worker stopped while some jobs were given to the executor. This can be caused by a too short worker timeout or by a memory leak.\n",
      "  warnings.warn(\n"
     ]
    }
   ],
   "source": [
    "# Define the parameter grid\n",
    "param_grid = {\n",
    "    'iso__n_estimators': [100, 200, 300, 500],\n",
    "    'iso__max_samples': [0.25, 0.5, 0.75, 1.0],\n",
    "    'iso__contamination': ['auto', 0.01, 0.05, 0.1, 0.2],\n",
    "    'iso__max_features': [0.5, 0.75, 1.0],\n",
    "    'iso__bootstrap': [True, False],\n",
    "}\n",
    "\n",
    "# Setup the grid search\n",
    "grid_search = GridSearchCV(estimator=pipe, param_grid=param_grid, cv=3, scoring='accuracy', n_jobs=-1)\n",
    "\n",
    "# Fit grid search\n",
    "best_model = grid_search.fit(X_train, y_train)"
   ]
  },
  {
   "cell_type": "code",
   "execution_count": 20,
   "id": "b588575f",
   "metadata": {},
   "outputs": [
    {
     "name": "stdout",
     "output_type": "stream",
     "text": [
      "[[23650   201]\n",
      " [ 2006    81]]\n",
      "              precision    recall  f1-score   support\n",
      "\n",
      "           0       0.92      0.99      0.96     23851\n",
      "           1       0.29      0.04      0.07      2087\n",
      "\n",
      "    accuracy                           0.91     25938\n",
      "   macro avg       0.60      0.52      0.51     25938\n",
      "weighted avg       0.87      0.91      0.88     25938\n",
      "\n"
     ]
    }
   ],
   "source": [
    "y_pred = best_model.predict(X_test)\n",
    "\n",
    "# Convert predictions from {1, -1} to {0, 1} (1: normal, -1: anomaly)\n",
    "y_pred = np.where(y_pred == 1, 0, 1)\n",
    "\n",
    "# Evaluation\n",
    "print(confusion_matrix(y_test, y_pred))\n",
    "print(classification_report(y_test, y_pred))"
   ]
  },
  {
   "cell_type": "code",
   "execution_count": 21,
   "id": "15f4564b",
   "metadata": {},
   "outputs": [
    {
     "data": {
      "text/plain": [
       "{'iso__bootstrap': True,\n",
       " 'iso__contamination': 0.01,\n",
       " 'iso__max_features': 0.75,\n",
       " 'iso__max_samples': 0.75,\n",
       " 'iso__n_estimators': 100}"
      ]
     },
     "execution_count": 21,
     "metadata": {},
     "output_type": "execute_result"
    }
   ],
   "source": [
    "grid_search.best_params_"
   ]
  },
  {
   "cell_type": "code",
   "execution_count": 127,
   "id": "9be03278",
   "metadata": {},
   "outputs": [
    {
     "name": "stdout",
     "output_type": "stream",
     "text": [
      "[[23851     0]\n",
      " [    0  2087]]\n",
      "              precision    recall  f1-score   support\n",
      "\n",
      "           0       1.00      1.00      1.00     23851\n",
      "           1       1.00      1.00      1.00      2087\n",
      "\n",
      "    accuracy                           1.00     25938\n",
      "   macro avg       1.00      1.00      1.00     25938\n",
      "weighted avg       1.00      1.00      1.00     25938\n",
      "\n"
     ]
    }
   ],
   "source": [
    "transformer = make_column_transformer(\n",
    "  (OneHotEncoder(), ['transaction_type', 'location_region', 'purchase_pattern', 'age_group']))\n",
    "\n",
    "\n",
    "pipe2 = Pipeline([('transformer', transformer),('iso', IsolationForest(random_state=42, bootstrap=True, contamination=.09, max_features=.2, n_estimators=124))]).fit(X_train)\n",
    "\n",
    "y_pred = pipe2.predict(X_test)\n",
    "\n",
    "# Convert predictions from {1, -1} to {0, 1} (1: normal, -1: anomaly)\n",
    "y_pred = np.where(y_pred == 1, 0, 1)\n",
    "\n",
    "# Evaluation\n",
    "print(confusion_matrix(y_test, y_pred))\n",
    "print(classification_report(y_test, y_pred))"
   ]
  },
  {
   "cell_type": "code",
   "execution_count": 154,
   "id": "dd3ffe10",
   "metadata": {},
   "outputs": [
    {
     "name": "stdout",
     "output_type": "stream",
     "text": [
      "[[23851     0]\n",
      " [ 1914   173]]\n",
      "              precision    recall  f1-score   support\n",
      "\n",
      "           0       0.93      1.00      0.96     23851\n",
      "           1       1.00      0.08      0.15      2087\n",
      "\n",
      "    accuracy                           0.93     25938\n",
      "   macro avg       0.96      0.54      0.56     25938\n",
      "weighted avg       0.93      0.93      0.90     25938\n",
      "\n"
     ]
    }
   ],
   "source": [
    "from sklearn.model_selection import cross_val_score, KFold\n",
    "from sklearn.metrics import make_scorer, recall_score\n",
    "\n",
    "# Create a scorer that uses f1_score with 'weighted' average\n",
    "f1_scorer = make_scorer(f1_score, average='weighted', zero_division=0)\n",
    "\n",
    "param_grid = {\n",
    "    'iso__n_estimators': np.arange(50, 301, 20).tolist(),  # Generates values from 50 to 500 stepping by 50\n",
    "    'iso__contamination': np.linspace(0.01, 0.5, 10).tolist(),  # Generates 10 values evenly spaced between 0.01 and 0.2\n",
    "    'iso__max_features': np.linspace(0.1, 1.0, 10).tolist(),  # Generates 10 values evenly spaced between 0.1 and 1.0\n",
    "    'iso__bootstrap': [True, False]\n",
    "}\n",
    "\n",
    "\n",
    "grid_search = GridSearchCV(estimator=pipe2, param_grid=param_grid, cv=3, scoring= f1_scorer, n_jobs=-1)\n",
    "\n",
    "# Fit grid search\n",
    "best_model = grid_search.fit(X_train, y_train)\n",
    "\n",
    "y_pred = best_model.predict(X_test)\n",
    "\n",
    "# Convert predictions from {1, -1} to {0, 1} (1: normal, -1: anomaly)i\n",
    "y_pred = np.where(y_pred == 1, 0, 1)\n",
    "\n",
    "# Evaluation\n",
    "print(confusion_matrix(y_test, y_pred))\n",
    "print(classification_report(y_test, y_pred))"
   ]
  },
  {
   "cell_type": "markdown",
   "id": "2a11a2a1",
   "metadata": {},
   "source": [
    "dont need: sending, recieving, timestamp, ip_prefix, risk_score\n",
    "reclassify anomaly column to be, 1- anamoly and 0 - not anamoly \n",
    "use encoders to transform: transaction_type, location_region, purchase_pattern, age_group"
   ]
  },
  {
   "cell_type": "code",
   "execution_count": 155,
   "id": "349f48a1",
   "metadata": {},
   "outputs": [
    {
     "data": {
      "text/plain": [
       "{'iso__bootstrap': True,\n",
       " 'iso__contamination': 0.01,\n",
       " 'iso__max_features': 0.9,\n",
       " 'iso__n_estimators': 50}"
      ]
     },
     "execution_count": 155,
     "metadata": {},
     "output_type": "execute_result"
    }
   ],
   "source": [
    "grid_search.best_params_"
   ]
  },
  {
   "cell_type": "code",
   "execution_count": 158,
   "id": "b128d884",
   "metadata": {},
   "outputs": [
    {
     "name": "stdout",
     "output_type": "stream",
     "text": [
      "[[23851     0]\n",
      " [ 1919   168]]\n",
      "              precision    recall  f1-score   support\n",
      "\n",
      "           0       0.93      1.00      0.96     23851\n",
      "           1       1.00      0.08      0.15      2087\n",
      "\n",
      "    accuracy                           0.93     25938\n",
      "   macro avg       0.96      0.54      0.56     25938\n",
      "weighted avg       0.93      0.93      0.90     25938\n",
      "\n"
     ]
    }
   ],
   "source": [
    "param_grid = {\n",
    "    'iso__n_estimators': np.arange(100, 301, 20).tolist(),  # Generates values from 50 to 500 stepping by 50\n",
    "    'iso__contamination': np.linspace(0.01, 0.2, 10).tolist(),  # Generates 10 values evenly spaced between 0.01 and 0.2\n",
    "    'iso__max_features': np.linspace(0.1, 1.0, 10).tolist(),  # Generates 10 values evenly spaced between 0.1 and 1.0\n",
    "    'iso__bootstrap': [True, False]\n",
    "}\n",
    "\n",
    "\n",
    "grid_search = GridSearchCV(estimator=pipe2, param_grid=param_grid, cv=3, scoring= f1_scorer, n_jobs=-1)\n",
    "\n",
    "# Fit grid search\n",
    "best_model = grid_search.fit(X_train, y_train)\n",
    "\n",
    "y_pred = best_model.predict(X_test)\n",
    "\n",
    "# Convert predictions from {1, -1} to {0, 1} (1: normal, -1: anomaly)i\n",
    "y_pred = np.where(y_pred == 1, 0, 1)\n",
    "\n",
    "# Evaluation\n",
    "print(confusion_matrix(y_test, y_pred))\n",
    "print(classification_report(y_test, y_pred))"
   ]
  },
  {
   "cell_type": "code",
   "execution_count": 159,
   "id": "8e46c435",
   "metadata": {},
   "outputs": [
    {
     "data": {
      "text/plain": [
       "{'iso__bootstrap': True,\n",
       " 'iso__contamination': 0.01,\n",
       " 'iso__max_features': 0.8,\n",
       " 'iso__n_estimators': 140}"
      ]
     },
     "execution_count": 159,
     "metadata": {},
     "output_type": "execute_result"
    }
   ],
   "source": [
    "grid_search.best_params_"
   ]
  },
  {
   "cell_type": "code",
   "execution_count": 164,
   "id": "b7187bfe",
   "metadata": {},
   "outputs": [
    {
     "name": "stdout",
     "output_type": "stream",
     "text": [
      "Feature 0: Importance 0.0\n",
      "Feature 1: Importance 0.0\n",
      "Feature 2: Importance -0.011814628206587125\n",
      "Feature 3: Importance 0.0\n",
      "Feature 4: Importance 0.0\n",
      "Feature 5: Importance 0.0\n",
      "Feature 6: Importance 0.0\n",
      "Feature 7: Importance 0.0\n"
     ]
    }
   ],
   "source": [
    "from sklearn.inspection import permutation_importance\n",
    "\n",
    "\n",
    "# Calculate permutation importance\n",
    "results = permutation_importance(pipe2, X_test, y_test, scoring=f1_scorer)\n",
    "\n",
    "# Get importance scores\n",
    "importance_scores = results.importances_mean\n",
    "\n",
    "# Print the feature importance\n",
    "for i, score in enumerate(importance_scores):\n",
    "    print(f\"Feature {i}: Importance {score}\")"
   ]
  },
  {
   "cell_type": "code",
   "execution_count": 165,
   "id": "dd3eb98d",
   "metadata": {},
   "outputs": [
    {
     "data": {
      "text/html": [
       "<div>\n",
       "<style scoped>\n",
       "    .dataframe tbody tr th:only-of-type {\n",
       "        vertical-align: middle;\n",
       "    }\n",
       "\n",
       "    .dataframe tbody tr th {\n",
       "        vertical-align: top;\n",
       "    }\n",
       "\n",
       "    .dataframe thead th {\n",
       "        text-align: right;\n",
       "    }\n",
       "</style>\n",
       "<table border=\"1\" class=\"dataframe\">\n",
       "  <thead>\n",
       "    <tr style=\"text-align: right;\">\n",
       "      <th></th>\n",
       "      <th>hour_of_day</th>\n",
       "      <th>amount</th>\n",
       "      <th>transaction_type</th>\n",
       "      <th>location_region</th>\n",
       "      <th>login_frequency</th>\n",
       "      <th>session_duration</th>\n",
       "      <th>purchase_pattern</th>\n",
       "      <th>age_group</th>\n",
       "    </tr>\n",
       "  </thead>\n",
       "  <tbody>\n",
       "    <tr>\n",
       "      <th>69753</th>\n",
       "      <td>0</td>\n",
       "      <td>788.154153</td>\n",
       "      <td>sale</td>\n",
       "      <td>Europe</td>\n",
       "      <td>2</td>\n",
       "      <td>28</td>\n",
       "      <td>random</td>\n",
       "      <td>new</td>\n",
       "    </tr>\n",
       "    <tr>\n",
       "      <th>10632</th>\n",
       "      <td>8</td>\n",
       "      <td>234.826403</td>\n",
       "      <td>transfer</td>\n",
       "      <td>North America</td>\n",
       "      <td>2</td>\n",
       "      <td>25</td>\n",
       "      <td>random</td>\n",
       "      <td>new</td>\n",
       "    </tr>\n",
       "    <tr>\n",
       "      <th>15147</th>\n",
       "      <td>7</td>\n",
       "      <td>190.103667</td>\n",
       "      <td>scam</td>\n",
       "      <td>Africa</td>\n",
       "      <td>1</td>\n",
       "      <td>21</td>\n",
       "      <td>random</td>\n",
       "      <td>new</td>\n",
       "    </tr>\n",
       "    <tr>\n",
       "      <th>7285</th>\n",
       "      <td>9</td>\n",
       "      <td>738.512316</td>\n",
       "      <td>sale</td>\n",
       "      <td>Asia</td>\n",
       "      <td>2</td>\n",
       "      <td>34</td>\n",
       "      <td>random</td>\n",
       "      <td>new</td>\n",
       "    </tr>\n",
       "    <tr>\n",
       "      <th>41654</th>\n",
       "      <td>5</td>\n",
       "      <td>536.142681</td>\n",
       "      <td>purchase</td>\n",
       "      <td>Asia</td>\n",
       "      <td>5</td>\n",
       "      <td>60</td>\n",
       "      <td>focused</td>\n",
       "      <td>established</td>\n",
       "    </tr>\n",
       "    <tr>\n",
       "      <th>...</th>\n",
       "      <td>...</td>\n",
       "      <td>...</td>\n",
       "      <td>...</td>\n",
       "      <td>...</td>\n",
       "      <td>...</td>\n",
       "      <td>...</td>\n",
       "      <td>...</td>\n",
       "      <td>...</td>\n",
       "    </tr>\n",
       "    <tr>\n",
       "      <th>70391</th>\n",
       "      <td>10</td>\n",
       "      <td>670.766363</td>\n",
       "      <td>sale</td>\n",
       "      <td>Asia</td>\n",
       "      <td>7</td>\n",
       "      <td>96</td>\n",
       "      <td>high_value</td>\n",
       "      <td>veteran</td>\n",
       "    </tr>\n",
       "    <tr>\n",
       "      <th>8207</th>\n",
       "      <td>0</td>\n",
       "      <td>681.744510</td>\n",
       "      <td>phishing</td>\n",
       "      <td>Africa</td>\n",
       "      <td>2</td>\n",
       "      <td>37</td>\n",
       "      <td>random</td>\n",
       "      <td>new</td>\n",
       "    </tr>\n",
       "    <tr>\n",
       "      <th>51018</th>\n",
       "      <td>15</td>\n",
       "      <td>814.885243</td>\n",
       "      <td>purchase</td>\n",
       "      <td>Africa</td>\n",
       "      <td>2</td>\n",
       "      <td>25</td>\n",
       "      <td>random</td>\n",
       "      <td>new</td>\n",
       "    </tr>\n",
       "    <tr>\n",
       "      <th>29582</th>\n",
       "      <td>11</td>\n",
       "      <td>734.069072</td>\n",
       "      <td>sale</td>\n",
       "      <td>South America</td>\n",
       "      <td>7</td>\n",
       "      <td>107</td>\n",
       "      <td>high_value</td>\n",
       "      <td>veteran</td>\n",
       "    </tr>\n",
       "    <tr>\n",
       "      <th>21848</th>\n",
       "      <td>7</td>\n",
       "      <td>472.992270</td>\n",
       "      <td>transfer</td>\n",
       "      <td>Africa</td>\n",
       "      <td>1</td>\n",
       "      <td>20</td>\n",
       "      <td>random</td>\n",
       "      <td>new</td>\n",
       "    </tr>\n",
       "  </tbody>\n",
       "</table>\n",
       "<p>25938 rows × 8 columns</p>\n",
       "</div>"
      ],
      "text/plain": [
       "       hour_of_day      amount transaction_type location_region  \\\n",
       "69753            0  788.154153             sale          Europe   \n",
       "10632            8  234.826403         transfer   North America   \n",
       "15147            7  190.103667             scam          Africa   \n",
       "7285             9  738.512316             sale            Asia   \n",
       "41654            5  536.142681         purchase            Asia   \n",
       "...            ...         ...              ...             ...   \n",
       "70391           10  670.766363             sale            Asia   \n",
       "8207             0  681.744510         phishing          Africa   \n",
       "51018           15  814.885243         purchase          Africa   \n",
       "29582           11  734.069072             sale   South America   \n",
       "21848            7  472.992270         transfer          Africa   \n",
       "\n",
       "       login_frequency  session_duration purchase_pattern    age_group  \n",
       "69753                2                28           random          new  \n",
       "10632                2                25           random          new  \n",
       "15147                1                21           random          new  \n",
       "7285                 2                34           random          new  \n",
       "41654                5                60          focused  established  \n",
       "...                ...               ...              ...          ...  \n",
       "70391                7                96       high_value      veteran  \n",
       "8207                 2                37           random          new  \n",
       "51018                2                25           random          new  \n",
       "29582                7               107       high_value      veteran  \n",
       "21848                1                20           random          new  \n",
       "\n",
       "[25938 rows x 8 columns]"
      ]
     },
     "execution_count": 165,
     "metadata": {},
     "output_type": "execute_result"
    }
   ],
   "source": [
    "X_test"
   ]
  },
  {
   "cell_type": "code",
   "execution_count": 166,
   "id": "bf806d4e",
   "metadata": {},
   "outputs": [
    {
     "data": {
      "text/plain": [
       "{'importances_mean': array([ 0.        ,  0.        , -0.01181463,  0.        ,  0.        ,\n",
       "         0.        ,  0.        ,  0.        ]),\n",
       " 'importances_std': array([0.00000000e+00, 0.00000000e+00, 6.64278387e-05, 0.00000000e+00,\n",
       "        0.00000000e+00, 0.00000000e+00, 0.00000000e+00, 0.00000000e+00]),\n",
       " 'importances': array([[ 0.        ,  0.        ,  0.        ,  0.        ,  0.        ],\n",
       "        [ 0.        ,  0.        ,  0.        ,  0.        ,  0.        ],\n",
       "        [-0.01169032, -0.01185236, -0.01185055, -0.01187611, -0.0118038 ],\n",
       "        [ 0.        ,  0.        ,  0.        ,  0.        ,  0.        ],\n",
       "        [ 0.        ,  0.        ,  0.        ,  0.        ,  0.        ],\n",
       "        [ 0.        ,  0.        ,  0.        ,  0.        ,  0.        ],\n",
       "        [ 0.        ,  0.        ,  0.        ,  0.        ,  0.        ],\n",
       "        [ 0.        ,  0.        ,  0.        ,  0.        ,  0.        ]])}"
      ]
     },
     "execution_count": 166,
     "metadata": {},
     "output_type": "execute_result"
    }
   ],
   "source": [
    "results"
   ]
  },
  {
   "cell_type": "code",
   "execution_count": 170,
   "id": "ec73b8d2",
   "metadata": {},
   "outputs": [
    {
     "name": "stdout",
     "output_type": "stream",
     "text": [
      "Feature 0: Importance 0.0\n",
      "Feature 1: Importance 0.0\n",
      "Feature 2: Importance 0.0\n",
      "Feature 3: Importance 0.0\n",
      "Feature 4: Importance 0.0\n",
      "Feature 5: Importance 0.0\n",
      "Feature 6: Importance 0.0\n",
      "Feature 7: Importance 0.0\n"
     ]
    }
   ],
   "source": [
    "X1 = data.drop(['anomaly', 'transaction_type'], axis = 1)\n",
    "X_train2, X_test2, y_train, y_test = train_test_split(X,y, test_size=.33, random_state=42)\n",
    "\n",
    "\n",
    "pipe4 = Pipeline([('transformer', transformer),('iso', IsolationForest())]).fit(X_train2)\n",
    "\n",
    "# Calculate permutation importance\n",
    "results = permutation_importance(pipe4, X_test2, y_test, scoring=f1_scorer)\n",
    "\n",
    "# Get importance scores\n",
    "importance_scores = results.importances_mean\n",
    "\n",
    "# Print the feature importance\n",
    "for i, score in enumerate(importance_scores):\n",
    "    print(f\"Feature {i}: Importance {score}\")"
   ]
  },
  {
   "cell_type": "code",
   "execution_count": 171,
   "id": "85781a3a",
   "metadata": {},
   "outputs": [
    {
     "name": "stdout",
     "output_type": "stream",
     "text": [
      "[[    0 23851]\n",
      " [    0  2087]]\n",
      "              precision    recall  f1-score   support\n",
      "\n",
      "           0       0.00      0.00      0.00     23851\n",
      "           1       0.08      1.00      0.15      2087\n",
      "\n",
      "    accuracy                           0.08     25938\n",
      "   macro avg       0.04      0.50      0.07     25938\n",
      "weighted avg       0.01      0.08      0.01     25938\n",
      "\n"
     ]
    },
    {
     "name": "stderr",
     "output_type": "stream",
     "text": [
      "/Users/kareemwilliams/anaconda3/lib/python3.11/site-packages/sklearn/metrics/_classification.py:1509: UndefinedMetricWarning: Precision is ill-defined and being set to 0.0 in labels with no predicted samples. Use `zero_division` parameter to control this behavior.\n",
      "  _warn_prf(average, modifier, f\"{metric.capitalize()} is\", len(result))\n",
      "/Users/kareemwilliams/anaconda3/lib/python3.11/site-packages/sklearn/metrics/_classification.py:1509: UndefinedMetricWarning: Precision is ill-defined and being set to 0.0 in labels with no predicted samples. Use `zero_division` parameter to control this behavior.\n",
      "  _warn_prf(average, modifier, f\"{metric.capitalize()} is\", len(result))\n",
      "/Users/kareemwilliams/anaconda3/lib/python3.11/site-packages/sklearn/metrics/_classification.py:1509: UndefinedMetricWarning: Precision is ill-defined and being set to 0.0 in labels with no predicted samples. Use `zero_division` parameter to control this behavior.\n",
      "  _warn_prf(average, modifier, f\"{metric.capitalize()} is\", len(result))\n"
     ]
    }
   ],
   "source": [
    "y_pred = pipe4.predict(X_test)\n",
    "\n",
    "# Convert predictions from {1, -1} to {0, 1} (1: normal, -1: anomaly)i\n",
    "y_pred = np.where(y_pred == 1, 0, 1)\n",
    "\n",
    "# Evaluation\n",
    "print(confusion_matrix(y_test, y_pred))\n",
    "print(classification_report(y_test, y_pred))"
   ]
  },
  {
   "cell_type": "code",
   "execution_count": 172,
   "id": "b038ce7b",
   "metadata": {},
   "outputs": [
    {
     "data": {
      "text/plain": [
       "transaction_type\n",
       "purchase    8255\n",
       "sale        8211\n",
       "transfer    7385\n",
       "scam        1257\n",
       "phishing     830\n",
       "Name: count, dtype: int64"
      ]
     },
     "execution_count": 172,
     "metadata": {},
     "output_type": "execute_result"
    }
   ],
   "source": [
    "X_test['transaction_type'].value_counts()"
   ]
  },
  {
   "cell_type": "code",
   "execution_count": 181,
   "id": "15d764f2",
   "metadata": {},
   "outputs": [
    {
     "data": {
      "text/plain": [
       "anomaly\n",
       "1    2546\n",
       "Name: count, dtype: int64"
      ]
     },
     "execution_count": 181,
     "metadata": {},
     "output_type": "execute_result"
    }
   ],
   "source": [
    "data[data['transaction_type'] == 'phishing']['anomaly'].value_counts()"
   ]
  },
  {
   "cell_type": "code",
   "execution_count": null,
   "id": "c56b3c52",
   "metadata": {},
   "outputs": [],
   "source": []
  }
 ],
 "metadata": {
  "kernelspec": {
   "display_name": "Python 3 (ipykernel)",
   "language": "python",
   "name": "python3"
  },
  "language_info": {
   "codemirror_mode": {
    "name": "ipython",
    "version": 3
   },
   "file_extension": ".py",
   "mimetype": "text/x-python",
   "name": "python",
   "nbconvert_exporter": "python",
   "pygments_lexer": "ipython3",
   "version": "3.11.5"
  }
 },
 "nbformat": 4,
 "nbformat_minor": 5
}
